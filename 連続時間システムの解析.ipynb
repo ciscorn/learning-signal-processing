{
 "cells": [
  {
   "cell_type": "markdown",
   "metadata": {},
   "source": [
    "# 連続時間システムの解析\n",
    "\n",
    "線形時不変システムの解析\n",
    "\n",
    "- 周波数特性（フーリエ級数展開、フーリエ変換による）\n",
    "- 伝達関数（ラプラス変換による）\n",
    "- 再び周波数特性（ボード線図、振幅特性、位相特性、群遅延特性）\n",
    "- 全域通過システム\n",
    "- 安定性"
   ]
  },
  {
   "cell_type": "markdown",
   "metadata": {},
   "source": [
    "## 線形時不変システムと畳み込み\n",
    "\n",
    "線形時不変システムの出力 $y(t)$ は、インパルス応答 $h(t)$ と入力信号 $u(t)$ の畳み込みで表現できる。\n",
    "\n",
    "入力信号をインパルスの列として表現する。\n",
    "\n",
    "$$ u(t) = \\int_{-\\infty}^{\\infty} \\delta(t - \\tau) u(\\tau) d\\tau $$\n",
    "\n",
    "時不変であるから、$\\delta(t)$に対する応答が$h(t)$のとき、$\\delta(t - \\tau)$に対する応答は$h(t - \\tau)$である。\n",
    "\n",
    "システムの線形性から、\n",
    "\n",
    "$$ y(t) = \\int_{-\\infty}^{\\infty} h(t - \\tau) u(\\tau) d\\tau $$\n",
    "\n",
    "がいえる。\n",
    "\n",
    "因果性システムなので、積分区間は実のところ以下で十分である。\n",
    "\n",
    "$$ y(t) = \\int_{-\\infty}^{t} h(t - \\tau) u(\\tau) d\\tau $$"
   ]
  },
  {
   "cell_type": "markdown",
   "metadata": {},
   "source": [
    "## 周波数特性\n",
    "\n",
    "### $e^{jwt}$ に対する応答\n",
    "\n",
    "まず線形時不変システムの基本的な性質を見る。\n",
    "\n",
    "$$\n",
    "\\begin{eqnarray}\n",
    "y(t) &=& \\int_{-\\infty}^\\infty h(t-\\tau) e^{j\\omega_0 \\tau} d\\tau \\\\\n",
    "     &=& e^{j\\omega_0 t} \\int_{-\\infty}^\\infty h(x) e^{-j\\omega_0 x} dx \\\\\n",
    "     &=& H(\\omega_0) e^{j\\omega_0 t}\n",
    "\\end{eqnarray}\n",
    "$$\n",
    "\n",
    "つまり入力と出力で周波数が変わることはなく、振幅と位相のみが変化することがわかる。\n",
    "\n",
    "周期信号はフーリエ級数展開によって $e^{jk\\omega_0 t}$ の級数で表現できるので、任意の周期信号についても同様の性質が成り立つ。つまり出力は、各周波数成分について入力の振幅と位相のみを変化させたものである。\n",
    "\n",
    "ちなみに、$y(t)$の実部は$cos(\\omega_0 t)$に対する応答、虚部は$sin(\\omega_0 t)$に対する応答である。\n",
    "\n",
    "### 任意の入力に対する応答\n",
    "\n",
    "次に、フーリエ変換可能な任意の入力に対する出力を見る。\n",
    "\n",
    "線形時不変システムにおいて、出力は畳み込みで表せることが分かった。\n",
    "\n",
    "$$ y(t) = h(t) \\ast t(t)$$\n",
    "\n",
    "ここで、畳み込み積分に関するフーリエ変換の性質を用いると、\n",
    "\n",
    "$$ Y(\\omega) = H(\\omega) U(\\omega)$$\n",
    "\n",
    "がいえる。ここでも、出力は、各周波数成分について入力の振幅と位相を変化させたものであることがわかる。\n",
    "\n",
    "### 周波数特性\n",
    "\n",
    "これまでにみたように、線形時不変システムの出力は、各周波数成分について、入力の振幅と位相を$H(\\omega)$だけ変化させたものである。つまり線形時不変システムの特性は、インパルス応答のフーリエ変換$H(\\omega)$だけで記述できる。\n",
    "\n",
    "$H(\\omega)$ をシステムの周波数特性という。"
   ]
  },
  {
   "cell_type": "markdown",
   "metadata": {},
   "source": [
    "## 伝達関数\n",
    "\n",
    "次に、システムをラプラス変換で解析する。\n",
    "\n",
    "ラプラス変換の畳み込みの性質を適用するには入力と出力とインパルス応答がすべて因果性信号である必要がある。因果性線形時不変システムでこれを満たすには、入力が$t<0$において$0$であればいい。このことを、システムが**静止状態**にあるという。\n",
    "\n",
    "ラプラス変換の畳み込みに関する性質より、以下が成り立つ：\n",
    "\n",
    "$$y(t) = h(t) \\ast u(t) \\Longleftrightarrow Y(s) = H(s)U(s) $$\n",
    "\n",
    "$H(s)$を伝達関数という。伝達関数は、システムが静止状態にあるときの、入力と出力のラプラス変換の比である。"
   ]
  },
  {
   "cell_type": "markdown",
   "metadata": {},
   "source": [
    "## n次システム\n",
    "\n",
    "線形微分方程式で表されるシステムの伝達関数は有理多項式になる。\n",
    "\n",
    "### 1次システム\n",
    "\n",
    "$$\\frac{dy(t)}{dt} + ay(t) = u(t)$$\n",
    "\n",
    "$$Y(s) = \\frac{1}{s+a}y_0 + \\frac{1}{s+a}U(s)$$\n",
    "\n",
    "$y_0=0$なので、\n",
    "\n",
    "$$H(s) = \\frac{1}{s+a}$$\n",
    "\n",
    "### 2次システム\n",
    "\n",
    "$$\\frac{d^2y(t)}{dt^2} + a_1\\frac{dy(t)}{dt} + a_2 y(t) = bu(t)$$\n",
    "\n",
    "$$Y(s) = \\frac{y_0(s+a_1) + y_1}{s^2 + a_1 s + a_2} + \\frac{b}{s^2 + a_1 s + a_2}U(s)$$\n",
    "\n",
    "第1項は、入力に関係なく、初期値のみによって決まる応答なので無視する。\n",
    "\n",
    "$$H(s) = \\frac{b}{s^2 + a_1 s + a_2}$$\n",
    "\n",
    "### n次システム\n",
    "\n",
    "$$\n",
    "\\begin{eqnarray}\n",
    "H(s) &=& \\frac{b_0 s^m + b_1 s^{m-1} + \\cdots + b_m}{s^n + a_1 s^{n-1} + \\cdots + a_n} \\quad (n \\geq m) \\\\\n",
    "     &=& \\frac{b_0 (s - \\sigma_1)(s - \\sigma_2) \\cdots (s - \\sigma_m)}{(s - \\lambda_1)(s - \\lambda_2) \\cdots (s - \\lambda_n)} \\label{polezero}\n",
    "\\end{eqnarray}\n",
    "$$\n",
    "\n",
    "$\\lambda_i$ を極、$\\sigma_i$ を零点という。\n",
    "\n",
    "（簡単のために、重根がないと仮定している。）\n",
    "\n",
    "これは以下のように部分分数展開することもできる。\n",
    "\n",
    "$$H(s) = \\frac{p_1}{s - \\lambda_1} +  \\frac{p_2}{s - \\lambda_2} + \\cdots + \\frac{p_n}{s - \\lambda_n}$$"
   ]
  },
  {
   "cell_type": "markdown",
   "metadata": {},
   "source": [
    "## 伝達関数の周波数特性\n",
    "\n",
    "インパルス応答がフーリエ変換可能なとき、$s$平面の虚軸上の値 $H(j\\omega)$ がこのシステムの周波数特性である。\n",
    "\n",
    "### n次システムの周波数特性\n",
    "\n",
    "各１次要素 $(jw - \\lambda_i)$ や $(jw - \\sigma_i)$ がどのように影響するか考えればよい。\n",
    "\n",
    "これは図で見たほうがわかりやすい。\n",
    "\n",
    "#### 振幅特性\n",
    "\n",
    "$$|H(j\\omega)| = \\frac{|b_0||j\\omega - \\sigma_1||j\\omega - \\sigma_2| \\cdots |j\\omega - \\sigma_m|}{|j\\omega - \\lambda_1||j\\omega - \\lambda_2| \\cdots |j\\omega - \\lambda_n|}$$\n",
    "\n",
    "極 $\\lambda_i$ が虚軸に近いほど、虚軸上に急峻な山ができる。\n",
    "\n",
    "\n",
    "#### 位相特性\n",
    "\n",
    "$$arg(H(j\\omega)) = arg(b_0) + \\sum arg(j\\omega - \\sigma_i) - \\sum arg(j\\omega - \\lambda_i) $$\n",
    "\n",
    "個々の極について見ると、極 $\\lambda_i$ が虚軸に近いほど、位相が急峻に変化する。\n",
    "\n",
    "\n",
    "#### 群遅延特性\n",
    "\n",
    "位相スペクトルを $\\omega$ で微分したものを群遅延特性という：\n",
    "\n",
    "$$\\tau(\\omega) = - \\frac{d\\theta(\\omega)}{d\\omega}$$\n",
    "\n",
    "信号を遅延させると$\\omega$に比例した直線位相が加わることをこれまでに見てきた。これを応用して、位相スペクトルを$\\omega$で微分すれば、周波数$\\omega$付近での相対的な遅延がわかる。\n",
    "\n",
    "ある周波数付近において群遅延特性が一定であれば、その周波数付近の信号成分については一様な遅延が起きているといえる。\n",
    "\n",
    "応用によっては、システムの群遅延特性の「良さ」が求められる。"
   ]
  },
  {
   "cell_type": "code",
   "execution_count": 46,
   "metadata": {},
   "outputs": [
    {
     "data": {
      "text/plain": [
       "[<matplotlib.lines.Line2D at 0x11b6c5550>]"
      ]
     },
     "execution_count": 46,
     "metadata": {},
     "output_type": "execute_result"
    },
    {
     "data": {
      "image/png": "[encoded data removed]",
      "text/plain": [
       "<Figure size 720x288 with 2 Axes>"
      ]
     },
     "metadata": {
      "needs_background": "light"
     },
     "output_type": "display_data"
    }
   ],
   "source": [
    "# 極による振幅と位相への影響\n",
    "\n",
    "import matplotlib.pyplot as plt\n",
    "import numpy as np\n",
    "w = np.linspace(-8, 8, 200)\n",
    "_, (amp, phase) = plt.subplots(ncols=2, figsize=(10,4))\n",
    "pole1 = 1 / (w * (0+1j) - (-1+2j))  # 虚軸に近い\n",
    "pole2 = 1 / (w * (0+1j) - (-2-1j))  # 虚軸から遠い\n",
    "amp.plot(w, np.abs(pole1))\n",
    "amp.plot(w, np.abs(pole2))\n",
    "phase.plot(w, np.angle(pole1))\n",
    "phase.plot(w, np.angle(pole2))"
   ]
  },
  {
   "cell_type": "markdown",
   "metadata": {},
   "source": [
    "### 全域通過システム\n",
    "\n",
    "n次システムにおいて、$n=m$で、$\\sigma_i = -\\overline{\\lambda_i}$ であれば、\n",
    "\n",
    "$$\\left|\\frac{j\\omega - \\sigma_i}{j\\omega - \\lambda_i}\\right| = 1 $$\n",
    "\n",
    "となるので、全周波数にわたって振幅スペクトル $|H(\\omega)|$ が一定である。\n",
    "\n",
    "もちろん位相スペクトルは一定ではない。"
   ]
  },
  {
   "cell_type": "markdown",
   "metadata": {},
   "source": [
    "### ゲインとボード線図\n",
    "\n",
    "振幅特性はゲインで表示されることが多い。単位は $[dB]$\n",
    "\n",
    "$$20log_{10}|H(j\\omega)| = 10log_{10}|H(j\\omega)| ^2\\quad$$\n",
    "\n",
    "| gain | $|H(jw)|$ |\n",
    "|------|:---------------|\n",
    "| 20dB | $10$ |\n",
    "|  6dB | $\\approx 2$  |\n",
    "|  3dB | $\\approx \\sqrt 2$ |\n",
    "|  0dB | $1$  |\n",
    "| -3dB | $\\approx 1/\\sqrt 2$ |\n",
    "| -6dB | $\\approx 1/2$ |\n",
    "|-20dB | $0.1$ |\n",
    "\n",
    "ゲインと位相特性を用いた特性表示を**ボード線図** (Bode plot) という。\n",
    "\n",
    "広い周波数帯域を表示するために、横軸として対数周波数を使うことがよくある。"
   ]
  },
  {
   "cell_type": "markdown",
   "metadata": {},
   "source": [
    "## 安定性\n",
    "\n",
    "入力が有限であるときに出力も有限であるとき、**安定**（BIBO安定）であるという。\n",
    "\n",
    "入力が有限である限り出力が発散しないということである。現実の信号処理システムは安定性が満たされるように設計しなければならない。\n",
    "\n",
    "### 線形時不変システムの安定性\n",
    "\n",
    "線形時不変システムのインパルス応答が次の条件を満たすとき、システムは安定である。\n",
    "\n",
    "「$ \\int_0^\\infty |h(t)| dt$ が有限である」\n",
    "\n",
    "\n",
    "### n次システムの安定性\n",
    "\n",
    "特に、n次システムの場合を見てみる。\n",
    "\n",
    "n次システムの$H(s)$は以下のように部分分数分解できる（重根も考慮している）。\n",
    "\n",
    "$$ H(s) = \\sum \\frac{p_i}{(s-\\lambda_i)^{k_i}}$$\n",
    "\n",
    "逆ラプラス変換すると：\n",
    "\n",
    "$$ f(t) = \\sum p_i \\frac{t^{k-1}}{(k-1)!} e^{\\lambda_i t} {\\bf 1}(t)$$\n",
    "\n",
    "この式から、すべての $\\lambda_i$ について $Re(\\lambda_i) < 0$であれば安定であることが分かる。"
   ]
  }
 ],
 "metadata": {
  "kernelspec": {
   "display_name": "Python 3",
   "language": "python",
   "name": "python3"
  },
  "language_info": {
   "codemirror_mode": {
    "name": "ipython",
    "version": 3
   },
   "file_extension": ".py",
   "mimetype": "text/x-python",
   "name": "python",
   "nbconvert_exporter": "python",
   "pygments_lexer": "ipython3",
   "version": "3.7.4"
  }
 },
 "nbformat": 4,
 "nbformat_minor": 2
}
