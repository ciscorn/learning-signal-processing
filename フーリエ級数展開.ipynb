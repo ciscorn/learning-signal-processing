{
 "cells": [
  {
   "cell_type": "markdown",
   "metadata": {},
   "source": [
    "# フーリエ級数展開"
   ]
  },
  {
   "cell_type": "code",
   "execution_count": 3,
   "metadata": {},
   "outputs": [],
   "source": [
    "from sympy import *\n",
    "t = var('t', real=True)\n",
    "w0 = var('w0', real=True, positive=True)\n",
    "k = var('k', integer=True)\n",
    "k1 = var('k1', integer=True, positive=True)\n",
    "k2 = var('k2', integer=True, positive=True)"
   ]
  },
  {
   "cell_type": "markdown",
   "metadata": {},
   "source": [
    "## 三角関数の直交性\n",
    "\n",
    "\n",
    "1. 周期信号は、原則としてフーリエ級数展開可能である。\n",
    "2. 三角関数 $\\sin(k\\omega_0 t)$, $\\cos(k\\omega_0 t)$ は直交基底をなす。（これにより、フーリエ級数の係数は簡単に求められる）\n",
    "\n",
    "1を証明するには高度な数学が要求される。これは正しいものと仮定しよう。\n",
    "\n",
    "2を確かめるのは容易だ。"
   ]
  },
  {
   "cell_type": "code",
   "execution_count": 113,
   "metadata": {},
   "outputs": [
    {
     "data": {
      "text/latex": [
       "$\\displaystyle \\begin{cases} 0 & \\text{for}\\: k_{1} \\neq k_{2} \\\\\\frac{\\pi}{w_{0}} & \\text{otherwise} \\end{cases}$"
      ],
      "text/plain": [
       "Piecewise((0, Ne(k1, k2)), (pi/w0, True))"
      ]
     },
     "execution_count": 113,
     "metadata": {},
     "output_type": "execute_result"
    }
   ],
   "source": [
    "integrate(cos(k1 * w0 * t) * cos(k2 * w0 * t), (t, -pi / w0, pi / w0))"
   ]
  },
  {
   "cell_type": "code",
   "execution_count": 91,
   "metadata": {},
   "outputs": [
    {
     "data": {
      "text/latex": [
       "$\\displaystyle \\begin{cases} - \\frac{\\pi}{w_{0}} & \\text{for}\\: \\left(k_{1} = - k_{2} \\wedge k_{1} = k_{2}\\right) \\vee k_{1} = - k_{2} \\\\\\frac{\\pi}{w_{0}} & \\text{for}\\: k_{1} = k_{2} \\\\0 & \\text{otherwise} \\end{cases}$"
      ],
      "text/plain": [
       "Piecewise((-pi/w0, Eq(k1, -k2) | (Eq(k1, k2) & Eq(k1, -k2))), (pi/w0, Eq(k1, k2)), (0, True))"
      ]
     },
     "execution_count": 91,
     "metadata": {},
     "output_type": "execute_result"
    }
   ],
   "source": [
    "integrate(sin(k1 * w0 * t) * sin(k2 * w0 * t), (t, -pi / w0, pi / w0))"
   ]
  },
  {
   "cell_type": "code",
   "execution_count": 116,
   "metadata": {},
   "outputs": [
    {
     "data": {
      "text/latex": [
       "$\\displaystyle 0$"
      ],
      "text/plain": [
       "0"
      ]
     },
     "execution_count": 116,
     "metadata": {},
     "output_type": "execute_result"
    }
   ],
   "source": [
    "integrate(sin(k1 * w0 * t) * cos(k2 * w0 * t), (t, -pi / w0, pi / w0))"
   ]
  },
  {
   "cell_type": "markdown",
   "metadata": {},
   "source": [
    "## 級数展開を $e^{ik\\omega_0 t}$ を用いて表現する\n",
    "\n",
    "下式の性質を利用する。\n",
    "\n",
    "$$ e^{j\\omega t} = \\cos(j\\omega t) + j \\sin(j\\omega t)$$\n",
    "\n",
    "級数展開の係数$c_k$を以下のように定義する。\n",
    "\n",
    "$$ c_k = \\frac{\\omega_0}{2 \\pi} \\int_{-\\pi/\\omega_0}^{\\pi/\\omega_0} f(t) e^{-j k \\omega_0 t} dt$$\n",
    "\n",
    "ここで、整数$k$は負の値もとることに注意する。\n",
    "\n",
    "このようにすると、実信号の各成分は以下のような係数に展開される。\n",
    "\n",
    "$$c_k = \\frac{1}{2}a_{k} - \\frac{j}{2}b_k$$\n",
    "\n",
    "$$c_{-k} = \\frac{1}{2}a_{k} + \\frac{j}{2}b_k$$\n",
    "\n",
    "$$c_0 = a_0$$\n",
    "\n",
    "$k$が正のときと負のときとの対称性がうまく働いて、次式のように級数展開できることが分かる。\n",
    "\n",
    "$$ f(t) = \\sum_{k=-\\infty}^\\infty c_k e^{jk\\omega_0 t} $$"
   ]
  },
  {
   "cell_type": "markdown",
   "metadata": {},
   "source": [
    "## 振幅と位相\n",
    "\n",
    "$k$次高調波成分は、$\\cos(k\\omega_0 t)$ と $\\sin(k\\omega_0 t)$ の線形和で表される。実のところsinとcosの線形和というのは、cosの位相と振幅が調整されたものにすぎない。（加法定理の結果がsinとcosの線形和になることから自明である）。\n",
    "\n",
    "つまりフーリエ級数は、振幅と位相を変化させた余弦波の高調波のみの級数とみなせるということだ。\n",
    "\n",
    "このとき、$c_k$は、$k$次高調波成分の振幅と位相を表していると捉えられる。\n",
    "\n",
    "$|c_k|$を振幅スペクトル、$\\arg(c_k)$ を位相スペクトルという。（信号を遅延させると$c_k$は時計回りに回転する）"
   ]
  },
  {
   "cell_type": "markdown",
   "metadata": {},
   "source": [
    "## ギブス現象\n",
    "\n",
    "フーリエ級数展開を有限項で打ち切ると、リップル（さざ波）が生じる。\n",
    "\n",
    "リップルの大きさは打ち切る項数に関わらず一定である。この誤差は不連続量の18%になることが知られている。これをギブス現象という。"
   ]
  },
  {
   "cell_type": "markdown",
   "metadata": {},
   "source": [
    "## 級数展開の性質\n",
    "\n",
    "以下のフーリエ級数展開のペアに対して、いくつかの性質を整理しておく。\n",
    "\n",
    "$$ f(t) \\Longleftrightarrow \\{c_k\\}$$\n",
    "\n",
    "### 線形性\n",
    "\n",
    "これは自明\n",
    "\n",
    "### 時間推移\n",
    "\n",
    "$$f(t - \\tau) \\Longleftrightarrow \\{c_k e^{-jk\\omega_0\\tau} \\}$$\n",
    "\n",
    "振幅スペクトルは変化しない。位相スペクトルに、以下の通り線形位相成分 $-jk\\omega_0\\tau$ が加わる。\n",
    "\n",
    "$$ \\arg(c_k e^{-jk\\omega_0\\tau}) = \\arg(c_k) - jk\\omega_0\\tau $$\n",
    "\n",
    "### 時間の反転\n",
    "\n",
    "$$f(-t) \\Longleftrightarrow \\{{c_{-k}}\\}$$\n",
    "\n",
    "実信号の場合は、$c_{-k} = \\overline{c_k}$ なので、さらに下式も成り立つ：\n",
    "\n",
    "$$f(-t) \\Longleftrightarrow \\{\\overline{c_k}\\}$$"
   ]
  },
  {
   "cell_type": "code",
   "execution_count": null,
   "metadata": {},
   "outputs": [],
   "source": []
  }
 ],
 "metadata": {
  "kernelspec": {
   "display_name": "Python 3",
   "language": "python",
   "name": "python3"
  },
  "language_info": {
   "codemirror_mode": {
    "name": "ipython",
    "version": 3
   },
   "file_extension": ".py",
   "mimetype": "text/x-python",
   "name": "python",
   "nbconvert_exporter": "python",
   "pygments_lexer": "ipython3",
   "version": "3.7.4"
  }
 },
 "nbformat": 4,
 "nbformat_minor": 2
}
