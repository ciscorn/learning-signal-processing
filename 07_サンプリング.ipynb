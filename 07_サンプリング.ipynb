{
 "cells": [
  {
   "cell_type": "markdown",
   "metadata": {},
   "source": [
    "# サンプリング\n",
    "\n",
    "- サンプリング定理（議論済み）\n",
    "- サンプリングレートの変換\n",
    "\n",
    "## サンプリング定理\n",
    "\n",
    "DTFTの導入においてすでに議論した。"
   ]
  },
  {
   "cell_type": "markdown",
   "metadata": {},
   "source": [
    "## サンプリングレートの変換\n",
    "\n",
    "いったんアナログ信号に戻してから再びサンプリングしなおすのは効率が悪い。\n",
    "\n",
    "整数倍のダウンサンプリングやアップサンプリングは、単純な考え方で理論的に行える。"
   ]
  },
  {
   "cell_type": "markdown",
   "metadata": {},
   "source": [
    "### 整数倍のダウンサンプリング\n",
    "\n",
    "離散時間信号から$D$個おきの時間で信号値を取り出せばいい。\n",
    "\n",
    "変換後のDTFTスペクトルは、元のDTFTスペクトルをさらに$D$個に分割して足し合わせたものを$1/D$倍して周期的に繰り返したものになる。この関係が成り立つことは、次のように考えれば簡単にわかる：\n",
    "\n",
    "- これは、元のアナログ信号を、従来の$1/D$のサンプリングレートでサンプリングした結果と同じである。\n",
    "- あるいは、この関係は逆DTFTから直接導ける。\n",
    "\n",
    "エイリアシングが起きるので、ダウンサンプルする前にフィルタをかける必要がある。\n",
    "\n",
    "このような一連のフィルタ操作とダウンサンプリング操作を、**デシメーション**という。"
   ]
  },
  {
   "cell_type": "markdown",
   "metadata": {},
   "source": [
    "### 整数倍のアップサンプリング\n",
    "\n",
    "離散時間信号の、各信号のあいだに新たなサンプリング点を$U$個設定し、それらの値を$0$にすればいい。\n",
    "\n",
    "変換後のスペクトルは、元のスペクトルを周波数方向に$1/U$縮小したものになる。これは、DTFTの式から明らかである。\n",
    "\n",
    "上記のアップサンプリング操作によって余計なスペクトルが発生するので、それらをフィルタで除去する必要がある。\n",
    "\n",
    "このような一連のアップサンプリング操作とフィルタ操作を、**インタポレーション**という。"
   ]
  }
 ],
 "metadata": {
  "kernelspec": {
   "display_name": "Python 3",
   "language": "python",
   "name": "python3"
  },
  "language_info": {
   "codemirror_mode": {
    "name": "ipython",
    "version": 3
   },
   "file_extension": ".py",
   "mimetype": "text/x-python",
   "name": "python",
   "nbconvert_exporter": "python",
   "pygments_lexer": "ipython3",
   "version": "3.9.4"
  },
  "toc": {
   "base_numbering": 1,
   "nav_menu": {},
   "number_sections": true,
   "sideBar": true,
   "skip_h1_title": false,
   "title_cell": "Table of Contents",
   "title_sidebar": "Contents",
   "toc_cell": false,
   "toc_position": {},
   "toc_section_display": true,
   "toc_window_display": false
  }
 },
 "nbformat": 4,
 "nbformat_minor": 4
}
